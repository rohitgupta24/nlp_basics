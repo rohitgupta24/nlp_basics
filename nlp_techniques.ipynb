{
  "nbformat": 4,
  "nbformat_minor": 0,
  "metadata": {
    "colab": {
      "provenance": [],
      "authorship_tag": "ABX9TyONty6p/BT7SCU/mfPolKtD",
      "include_colab_link": true
    },
    "kernelspec": {
      "name": "python3",
      "display_name": "Python 3"
    },
    "language_info": {
      "name": "python"
    }
  },
  "cells": [
    {
      "cell_type": "markdown",
      "metadata": {
        "id": "view-in-github",
        "colab_type": "text"
      },
      "source": [
        "<a href=\"https://colab.research.google.com/github/rohitgupta24/nlp_basics/blob/main/nlp_techniques.ipynb\" target=\"_parent\"><img src=\"https://colab.research.google.com/assets/colab-badge.svg\" alt=\"Open In Colab\"/></a>"
      ]
    },
    {
      "cell_type": "code",
      "execution_count": null,
      "metadata": {
        "id": "IhiWUYJd63VL"
      },
      "outputs": [],
      "source": [
        "'''\n",
        "Data Cleaning : Tokenization, Stop Words, Stemming, Lemmatization\n",
        "Step 2 : Converting data into vectors : One Hot Encoding ,BoW, TF-IDF, Word2Vec\n",
        "'''"
      ]
    },
    {
      "cell_type": "code",
      "source": [
        "  # Bigram = He eats food : Bigram : He eats | Eats Food . Trigram is not possible."
      ],
      "metadata": {
        "id": "T81PzSvZTLTc"
      },
      "execution_count": null,
      "outputs": []
    },
    {
      "cell_type": "code",
      "source": [
        "!pip install nltk"
      ],
      "metadata": {
        "colab": {
          "base_uri": "https://localhost:8080/"
        },
        "id": "4bSPvPPSTLXY",
        "outputId": "629689fe-9625-4319-bfa6-bdb7cddefcd1"
      },
      "execution_count": 1,
      "outputs": [
        {
          "output_type": "stream",
          "name": "stdout",
          "text": [
            "Requirement already satisfied: nltk in /usr/local/lib/python3.10/dist-packages (3.8.1)\n",
            "Requirement already satisfied: click in /usr/local/lib/python3.10/dist-packages (from nltk) (8.1.6)\n",
            "Requirement already satisfied: joblib in /usr/local/lib/python3.10/dist-packages (from nltk) (1.3.1)\n",
            "Requirement already satisfied: regex>=2021.8.3 in /usr/local/lib/python3.10/dist-packages (from nltk) (2022.10.31)\n",
            "Requirement already satisfied: tqdm in /usr/local/lib/python3.10/dist-packages (from nltk) (4.65.0)\n"
          ]
        }
      ]
    },
    {
      "cell_type": "code",
      "source": [
        "paragraph = \"Modi was born and raised in Vadnagar in northeastern Gujarat, where he completed his secondary education. He was introduced to the RSS at age eight. His account of helping his father sell tea at the Vadnagar railway station has not been reliably corroborated. At age 18, he was married to Jashodaben Modi, whom he abandoned soon after, only publicly acknowledging her four decades later when legally required to do so. Modi became a full-time worker for the RSS in Gujarat in 1971. The RSS assigned him to the BJP in 1985 and he held several positions within the party hierarchy until 2001, rising to the rank of general secretary.In 2001, Modi was appointed Chief Minister of Gujarat and elected to the legislative assembly soon after. His administration is considered complicit in the 2002 Gujarat riots,[d] and has been criticised for its management of the crisis. A little over 1,000 people were killed, according to official records, three-quarters of whom were Muslim; independent sources estimated 2,000 deaths, mostly Muslim.[10] A Special Investigation Team appointed by the Supreme Court of India in 2012 found no evidence to initiate prosecution proceedings against him.[e] As chief minister, his administration's pro-growth policies were praised. Health, poverty and education indices in the state did not see significant improvements.[f] In the 2014 Indian general election, Modi led the BJP to a parliamentary majority, the first for a party since 1984. His administration increased direct foreign investment; it reduced spending on healthcare, education, and social-welfare programmes. Modi began a high-profile sanitation campaign, controversially initiated the 2016 demonetisation of high-denomination banknotes and introduced the Goods and Services Tax, and weakened or abolished environmental and labour laws.\""
      ],
      "metadata": {
        "id": "46L_ATCOTLa9"
      },
      "execution_count": 3,
      "outputs": []
    },
    {
      "cell_type": "code",
      "source": [
        "paragraph"
      ],
      "metadata": {
        "colab": {
          "base_uri": "https://localhost:8080/",
          "height": 105
        },
        "id": "5TQDPWyATLeF",
        "outputId": "7a9f59de-0053-4342-f465-bd1442835fca"
      },
      "execution_count": 4,
      "outputs": [
        {
          "output_type": "execute_result",
          "data": {
            "text/plain": [
              "\"Modi was born and raised in Vadnagar in northeastern Gujarat, where he completed his secondary education. He was introduced to the RSS at age eight. His account of helping his father sell tea at the Vadnagar railway station has not been reliably corroborated. At age 18, he was married to Jashodaben Modi, whom he abandoned soon after, only publicly acknowledging her four decades later when legally required to do so. Modi became a full-time worker for the RSS in Gujarat in 1971. The RSS assigned him to the BJP in 1985 and he held several positions within the party hierarchy until 2001, rising to the rank of general secretary.In 2001, Modi was appointed Chief Minister of Gujarat and elected to the legislative assembly soon after. His administration is considered complicit in the 2002 Gujarat riots,[d] and has been criticised for its management of the crisis. A little over 1,000 people were killed, according to official records, three-quarters of whom were Muslim; independent sources estimated 2,000 deaths, mostly Muslim.[10] A Special Investigation Team appointed by the Supreme Court of India in 2012 found no evidence to initiate prosecution proceedings against him.[e] As chief minister, his administration's pro-growth policies were praised. Health, poverty and education indices in the state did not see significant improvements.[f] In the 2014 Indian general election, Modi led the BJP to a parliamentary majority, the first for a party since 1984. His administration increased direct foreign investment; it reduced spending on healthcare, education, and social-welfare programmes. Modi began a high-profile sanitation campaign, controversially initiated the 2016 demonetisation of high-denomination banknotes and introduced the Goods and Services Tax, and weakened or abolished environmental and labour laws.\""
            ],
            "application/vnd.google.colaboratory.intrinsic+json": {
              "type": "string"
            }
          },
          "metadata": {},
          "execution_count": 4
        }
      ]
    },
    {
      "cell_type": "code",
      "source": [
        "import nltk\n",
        "from nltk.stem import PorterStemmer\n",
        "from nltk.corpus import stopwords"
      ],
      "metadata": {
        "id": "JbQ0ukH4gW_k"
      },
      "execution_count": 5,
      "outputs": []
    },
    {
      "cell_type": "code",
      "source": [
        "#tokenization\n",
        "\n",
        "nltk.download(\"punkt\")\n",
        "sentences = nltk.sent_tokenize(paragraph)"
      ],
      "metadata": {
        "colab": {
          "base_uri": "https://localhost:8080/"
        },
        "id": "yXJDnEJigXCp",
        "outputId": "bd2b018e-9049-4550-f2b6-e57f88b88e98"
      },
      "execution_count": 6,
      "outputs": [
        {
          "output_type": "stream",
          "name": "stderr",
          "text": [
            "[nltk_data] Downloading package punkt to /root/nltk_data...\n",
            "[nltk_data]   Unzipping tokenizers/punkt.zip.\n"
          ]
        }
      ]
    },
    {
      "cell_type": "code",
      "source": [
        "sentences"
      ],
      "metadata": {
        "colab": {
          "base_uri": "https://localhost:8080/"
        },
        "id": "8excTS1sgXH6",
        "outputId": "00d51dd7-c693-4449-edf6-531aafe52fea"
      },
      "execution_count": 7,
      "outputs": [
        {
          "output_type": "execute_result",
          "data": {
            "text/plain": [
              "['Modi was born and raised in Vadnagar in northeastern Gujarat, where he completed his secondary education.',\n",
              " 'He was introduced to the RSS at age eight.',\n",
              " 'His account of helping his father sell tea at the Vadnagar railway station has not been reliably corroborated.',\n",
              " 'At age 18, he was married to Jashodaben Modi, whom he abandoned soon after, only publicly acknowledging her four decades later when legally required to do so.',\n",
              " 'Modi became a full-time worker for the RSS in Gujarat in 1971.',\n",
              " 'The RSS assigned him to the BJP in 1985 and he held several positions within the party hierarchy until 2001, rising to the rank of general secretary.In 2001, Modi was appointed Chief Minister of Gujarat and elected to the legislative assembly soon after.',\n",
              " 'His administration is considered complicit in the 2002 Gujarat riots,[d] and has been criticised for its management of the crisis.',\n",
              " 'A little over 1,000 people were killed, according to official records, three-quarters of whom were Muslim; independent sources estimated 2,000 deaths, mostly Muslim.',\n",
              " '[10] A Special Investigation Team appointed by the Supreme Court of India in 2012 found no evidence to initiate prosecution proceedings against him.',\n",
              " \"[e] As chief minister, his administration's pro-growth policies were praised.\",\n",
              " 'Health, poverty and education indices in the state did not see significant improvements.',\n",
              " '[f] In the 2014 Indian general election, Modi led the BJP to a parliamentary majority, the first for a party since 1984.',\n",
              " 'His administration increased direct foreign investment; it reduced spending on healthcare, education, and social-welfare programmes.',\n",
              " 'Modi began a high-profile sanitation campaign, controversially initiated the 2016 demonetisation of high-denomination banknotes and introduced the Goods and Services Tax, and weakened or abolished environmental and labour laws.']"
            ]
          },
          "metadata": {},
          "execution_count": 7
        }
      ]
    },
    {
      "cell_type": "code",
      "source": [
        "stemmer = PorterStemmer()\n",
        "stemmer.stem('history')"
      ],
      "metadata": {
        "colab": {
          "base_uri": "https://localhost:8080/",
          "height": 35
        },
        "id": "K8h-bD5mhPv0",
        "outputId": "6fffb212-4769-4ccf-c16c-92df7ade7573"
      },
      "execution_count": 9,
      "outputs": [
        {
          "output_type": "execute_result",
          "data": {
            "text/plain": [
              "'histori'"
            ],
            "application/vnd.google.colaboratory.intrinsic+json": {
              "type": "string"
            }
          },
          "metadata": {},
          "execution_count": 9
        }
      ]
    },
    {
      "cell_type": "code",
      "source": [
        "len(sentences)"
      ],
      "metadata": {
        "colab": {
          "base_uri": "https://localhost:8080/"
        },
        "id": "atqNnn2OhP1k",
        "outputId": "10b4d263-0042-4dc7-a27d-7be4d0e00bf1"
      },
      "execution_count": 12,
      "outputs": [
        {
          "output_type": "execute_result",
          "data": {
            "text/plain": [
              "14"
            ]
          },
          "metadata": {},
          "execution_count": 12
        }
      ]
    },
    {
      "cell_type": "code",
      "source": [
        "import re\n",
        "\n",
        "corpus = []\n",
        "for x in range(14):\n",
        "  review = re.sub('[^a-zA-Z]',' ', sentences[x])\n",
        "  review = review.lower()\n",
        "  corpus.append(review)"
      ],
      "metadata": {
        "id": "u1ADAvTegXLR"
      },
      "execution_count": 18,
      "outputs": []
    },
    {
      "cell_type": "code",
      "source": [
        "corpus"
      ],
      "metadata": {
        "colab": {
          "base_uri": "https://localhost:8080/"
        },
        "id": "mFOWIscnyJTk",
        "outputId": "9003d5aa-352d-4b2a-b91f-20c5d4538699"
      },
      "execution_count": 19,
      "outputs": [
        {
          "output_type": "execute_result",
          "data": {
            "text/plain": [
              "['modi was born and raised in vadnagar in northeastern gujarat  where he completed his secondary education ',\n",
              " 'he was introduced to the rss at age eight ',\n",
              " 'his account of helping his father sell tea at the vadnagar railway station has not been reliably corroborated ',\n",
              " 'at age     he was married to jashodaben modi  whom he abandoned soon after  only publicly acknowledging her four decades later when legally required to do so ',\n",
              " 'modi became a full time worker for the rss in gujarat in      ',\n",
              " 'the rss assigned him to the bjp in      and he held several positions within the party hierarchy until       rising to the rank of general secretary in       modi was appointed chief minister of gujarat and elected to the legislative assembly soon after ',\n",
              " 'his administration is considered complicit in the      gujarat riots  d  and has been criticised for its management of the crisis ',\n",
              " 'a little over       people were killed  according to official records  three quarters of whom were muslim  independent sources estimated       deaths  mostly muslim ',\n",
              " '     a special investigation team appointed by the supreme court of india in      found no evidence to initiate prosecution proceedings against him ',\n",
              " ' e  as chief minister  his administration s pro growth policies were praised ',\n",
              " 'health  poverty and education indices in the state did not see significant improvements ',\n",
              " ' f  in the      indian general election  modi led the bjp to a parliamentary majority  the first for a party since      ',\n",
              " 'his administration increased direct foreign investment  it reduced spending on healthcare  education  and social welfare programmes ',\n",
              " 'modi began a high profile sanitation campaign  controversially initiated the      demonetisation of high denomination banknotes and introduced the goods and services tax  and weakened or abolished environmental and labour laws ']"
            ]
          },
          "metadata": {},
          "execution_count": 19
        }
      ]
    },
    {
      "cell_type": "code",
      "source": [
        "nltk.download('stopwords')\n"
      ],
      "metadata": {
        "colab": {
          "base_uri": "https://localhost:8080/"
        },
        "id": "rL9aUdZMyJWo",
        "outputId": "c26814be-0461-403b-803e-aaecd6d36bbc"
      },
      "execution_count": 23,
      "outputs": [
        {
          "output_type": "stream",
          "name": "stderr",
          "text": [
            "[nltk_data] Downloading package stopwords to /root/nltk_data...\n",
            "[nltk_data]   Package stopwords is already up-to-date!\n"
          ]
        },
        {
          "output_type": "execute_result",
          "data": {
            "text/plain": [
              "True"
            ]
          },
          "metadata": {},
          "execution_count": 23
        }
      ]
    },
    {
      "cell_type": "code",
      "source": [
        "stopwords.words('english')"
      ],
      "metadata": {
        "colab": {
          "base_uri": "https://localhost:8080/"
        },
        "id": "yDxqC-xO2K49",
        "outputId": "41653593-8be1-467d-8fea-473bdd54878a"
      },
      "execution_count": 25,
      "outputs": [
        {
          "output_type": "execute_result",
          "data": {
            "text/plain": [
              "['i',\n",
              " 'me',\n",
              " 'my',\n",
              " 'myself',\n",
              " 'we',\n",
              " 'our',\n",
              " 'ours',\n",
              " 'ourselves',\n",
              " 'you',\n",
              " \"you're\",\n",
              " \"you've\",\n",
              " \"you'll\",\n",
              " \"you'd\",\n",
              " 'your',\n",
              " 'yours',\n",
              " 'yourself',\n",
              " 'yourselves',\n",
              " 'he',\n",
              " 'him',\n",
              " 'his',\n",
              " 'himself',\n",
              " 'she',\n",
              " \"she's\",\n",
              " 'her',\n",
              " 'hers',\n",
              " 'herself',\n",
              " 'it',\n",
              " \"it's\",\n",
              " 'its',\n",
              " 'itself',\n",
              " 'they',\n",
              " 'them',\n",
              " 'their',\n",
              " 'theirs',\n",
              " 'themselves',\n",
              " 'what',\n",
              " 'which',\n",
              " 'who',\n",
              " 'whom',\n",
              " 'this',\n",
              " 'that',\n",
              " \"that'll\",\n",
              " 'these',\n",
              " 'those',\n",
              " 'am',\n",
              " 'is',\n",
              " 'are',\n",
              " 'was',\n",
              " 'were',\n",
              " 'be',\n",
              " 'been',\n",
              " 'being',\n",
              " 'have',\n",
              " 'has',\n",
              " 'had',\n",
              " 'having',\n",
              " 'do',\n",
              " 'does',\n",
              " 'did',\n",
              " 'doing',\n",
              " 'a',\n",
              " 'an',\n",
              " 'the',\n",
              " 'and',\n",
              " 'but',\n",
              " 'if',\n",
              " 'or',\n",
              " 'because',\n",
              " 'as',\n",
              " 'until',\n",
              " 'while',\n",
              " 'of',\n",
              " 'at',\n",
              " 'by',\n",
              " 'for',\n",
              " 'with',\n",
              " 'about',\n",
              " 'against',\n",
              " 'between',\n",
              " 'into',\n",
              " 'through',\n",
              " 'during',\n",
              " 'before',\n",
              " 'after',\n",
              " 'above',\n",
              " 'below',\n",
              " 'to',\n",
              " 'from',\n",
              " 'up',\n",
              " 'down',\n",
              " 'in',\n",
              " 'out',\n",
              " 'on',\n",
              " 'off',\n",
              " 'over',\n",
              " 'under',\n",
              " 'again',\n",
              " 'further',\n",
              " 'then',\n",
              " 'once',\n",
              " 'here',\n",
              " 'there',\n",
              " 'when',\n",
              " 'where',\n",
              " 'why',\n",
              " 'how',\n",
              " 'all',\n",
              " 'any',\n",
              " 'both',\n",
              " 'each',\n",
              " 'few',\n",
              " 'more',\n",
              " 'most',\n",
              " 'other',\n",
              " 'some',\n",
              " 'such',\n",
              " 'no',\n",
              " 'nor',\n",
              " 'not',\n",
              " 'only',\n",
              " 'own',\n",
              " 'same',\n",
              " 'so',\n",
              " 'than',\n",
              " 'too',\n",
              " 'very',\n",
              " 's',\n",
              " 't',\n",
              " 'can',\n",
              " 'will',\n",
              " 'just',\n",
              " 'don',\n",
              " \"don't\",\n",
              " 'should',\n",
              " \"should've\",\n",
              " 'now',\n",
              " 'd',\n",
              " 'll',\n",
              " 'm',\n",
              " 'o',\n",
              " 're',\n",
              " 've',\n",
              " 'y',\n",
              " 'ain',\n",
              " 'aren',\n",
              " \"aren't\",\n",
              " 'couldn',\n",
              " \"couldn't\",\n",
              " 'didn',\n",
              " \"didn't\",\n",
              " 'doesn',\n",
              " \"doesn't\",\n",
              " 'hadn',\n",
              " \"hadn't\",\n",
              " 'hasn',\n",
              " \"hasn't\",\n",
              " 'haven',\n",
              " \"haven't\",\n",
              " 'isn',\n",
              " \"isn't\",\n",
              " 'ma',\n",
              " 'mightn',\n",
              " \"mightn't\",\n",
              " 'mustn',\n",
              " \"mustn't\",\n",
              " 'needn',\n",
              " \"needn't\",\n",
              " 'shan',\n",
              " \"shan't\",\n",
              " 'shouldn',\n",
              " \"shouldn't\",\n",
              " 'wasn',\n",
              " \"wasn't\",\n",
              " 'weren',\n",
              " \"weren't\",\n",
              " 'won',\n",
              " \"won't\",\n",
              " 'wouldn',\n",
              " \"wouldn't\"]"
            ]
          },
          "metadata": {},
          "execution_count": 25
        }
      ]
    },
    {
      "cell_type": "code",
      "source": [
        "for x in corpus :\n",
        "  words = nltk.word_tokenize(x)\n",
        "  for word in words:\n",
        "    if word not in set(stopwords.words('english')):\n",
        "      print(stemmer.stem(word))"
      ],
      "metadata": {
        "colab": {
          "base_uri": "https://localhost:8080/"
        },
        "id": "cS2kLrZPyJZK",
        "outputId": "801dfcd6-f0e8-4745-fdfd-409129e25c7d"
      },
      "execution_count": 24,
      "outputs": [
        {
          "output_type": "stream",
          "name": "stdout",
          "text": [
            "modi\n",
            "born\n",
            "rais\n",
            "vadnagar\n",
            "northeastern\n",
            "gujarat\n",
            "complet\n",
            "secondari\n",
            "educ\n",
            "introduc\n",
            "rss\n",
            "age\n",
            "eight\n",
            "account\n",
            "help\n",
            "father\n",
            "sell\n",
            "tea\n",
            "vadnagar\n",
            "railway\n",
            "station\n",
            "reliabl\n",
            "corrobor\n",
            "age\n",
            "marri\n",
            "jashodaben\n",
            "modi\n",
            "abandon\n",
            "soon\n",
            "publicli\n",
            "acknowledg\n",
            "four\n",
            "decad\n",
            "later\n",
            "legal\n",
            "requir\n",
            "modi\n",
            "becam\n",
            "full\n",
            "time\n",
            "worker\n",
            "rss\n",
            "gujarat\n",
            "rss\n",
            "assign\n",
            "bjp\n",
            "held\n",
            "sever\n",
            "posit\n",
            "within\n",
            "parti\n",
            "hierarchi\n",
            "rise\n",
            "rank\n",
            "gener\n",
            "secretari\n",
            "modi\n",
            "appoint\n",
            "chief\n",
            "minist\n",
            "gujarat\n",
            "elect\n",
            "legisl\n",
            "assembl\n",
            "soon\n",
            "administr\n",
            "consid\n",
            "complicit\n",
            "gujarat\n",
            "riot\n",
            "criticis\n",
            "manag\n",
            "crisi\n",
            "littl\n",
            "peopl\n",
            "kill\n",
            "accord\n",
            "offici\n",
            "record\n",
            "three\n",
            "quarter\n",
            "muslim\n",
            "independ\n",
            "sourc\n",
            "estim\n",
            "death\n",
            "mostli\n",
            "muslim\n",
            "special\n",
            "investig\n",
            "team\n",
            "appoint\n",
            "suprem\n",
            "court\n",
            "india\n",
            "found\n",
            "evid\n",
            "initi\n",
            "prosecut\n",
            "proceed\n",
            "e\n",
            "chief\n",
            "minist\n",
            "administr\n",
            "pro\n",
            "growth\n",
            "polici\n",
            "prais\n",
            "health\n",
            "poverti\n",
            "educ\n",
            "indic\n",
            "state\n",
            "see\n",
            "signific\n",
            "improv\n",
            "f\n",
            "indian\n",
            "gener\n",
            "elect\n",
            "modi\n",
            "led\n",
            "bjp\n",
            "parliamentari\n",
            "major\n",
            "first\n",
            "parti\n",
            "sinc\n",
            "administr\n",
            "increas\n",
            "direct\n",
            "foreign\n",
            "invest\n",
            "reduc\n",
            "spend\n",
            "healthcar\n",
            "educ\n",
            "social\n",
            "welfar\n",
            "programm\n",
            "modi\n",
            "began\n",
            "high\n",
            "profil\n",
            "sanit\n",
            "campaign\n",
            "controversi\n",
            "initi\n",
            "demonetis\n",
            "high\n",
            "denomin\n",
            "banknot\n",
            "introduc\n",
            "good\n",
            "servic\n",
            "tax\n",
            "weaken\n",
            "abolish\n",
            "environment\n",
            "labour\n",
            "law\n"
          ]
        }
      ]
    },
    {
      "cell_type": "code",
      "source": [
        "#lemmatization"
      ],
      "metadata": {
        "id": "ydbhXuYVyJbs"
      },
      "execution_count": 28,
      "outputs": []
    },
    {
      "cell_type": "code",
      "source": [
        "from sklearn.feature_extraction.text import CountVectorizer\n",
        "cv = CountVectorizer()"
      ],
      "metadata": {
        "id": "7VrwUdr3yJeA"
      },
      "execution_count": 29,
      "outputs": []
    },
    {
      "cell_type": "code",
      "source": [
        "X = cv.fit_transform(corpus)"
      ],
      "metadata": {
        "id": "L4qfrI3zyJgu"
      },
      "execution_count": 30,
      "outputs": []
    },
    {
      "cell_type": "code",
      "source": [
        "cv.vocabulary_"
      ],
      "metadata": {
        "colab": {
          "base_uri": "https://localhost:8080/"
        },
        "id": "Y2oDBM2F3QYG",
        "outputId": "e29fdbf6-8620-4420-c302-711e7d013ec7"
      },
      "execution_count": 31,
      "outputs": [
        {
          "output_type": "execute_result",
          "data": {
            "text/plain": [
              "{'modi': 96,\n",
              " 'was': 159,\n",
              " 'born': 20,\n",
              " 'and': 9,\n",
              " 'raised': 123,\n",
              " 'in': 69,\n",
              " 'vadnagar': 158,\n",
              " 'northeastern': 100,\n",
              " 'gujarat': 56,\n",
              " 'where': 164,\n",
              " 'he': 58,\n",
              " 'completed': 24,\n",
              " 'his': 67,\n",
              " 'secondary': 133,\n",
              " 'education': 39,\n",
              " 'introduced': 77,\n",
              " 'to': 156,\n",
              " 'the': 153,\n",
              " 'rss': 131,\n",
              " 'at': 14,\n",
              " 'age': 8,\n",
              " 'eight': 40,\n",
              " 'account': 3,\n",
              " 'of': 102,\n",
              " 'helping': 62,\n",
              " 'father': 46,\n",
              " 'sell': 136,\n",
              " 'tea': 151,\n",
              " 'railway': 122,\n",
              " 'station': 148,\n",
              " 'has': 57,\n",
              " 'not': 101,\n",
              " 'been': 17,\n",
              " 'reliably': 127,\n",
              " 'corroborated': 28,\n",
              " 'married': 94,\n",
              " 'jashodaben': 83,\n",
              " 'whom': 165,\n",
              " 'abandoned': 0,\n",
              " 'soon': 143,\n",
              " 'after': 6,\n",
              " 'only': 105,\n",
              " 'publicly': 120,\n",
              " 'acknowledging': 4,\n",
              " 'her': 63,\n",
              " 'four': 51,\n",
              " 'decades': 33,\n",
              " 'later': 86,\n",
              " 'when': 163,\n",
              " 'legally': 89,\n",
              " 'required': 128,\n",
              " 'do': 38,\n",
              " 'so': 141,\n",
              " 'became': 16,\n",
              " 'full': 52,\n",
              " 'time': 155,\n",
              " 'worker': 167,\n",
              " 'for': 48,\n",
              " 'assigned': 13,\n",
              " 'him': 66,\n",
              " 'bjp': 19,\n",
              " 'held': 61,\n",
              " 'several': 138,\n",
              " 'positions': 112,\n",
              " 'within': 166,\n",
              " 'party': 109,\n",
              " 'hierarchy': 64,\n",
              " 'until': 157,\n",
              " 'rising': 130,\n",
              " 'rank': 124,\n",
              " 'general': 53,\n",
              " 'secretary': 134,\n",
              " 'appointed': 10,\n",
              " 'chief': 23,\n",
              " 'minister': 95,\n",
              " 'elected': 41,\n",
              " 'legislative': 90,\n",
              " 'assembly': 12,\n",
              " 'administration': 5,\n",
              " 'is': 80,\n",
              " 'considered': 26,\n",
              " 'complicit': 25,\n",
              " 'riots': 129,\n",
              " 'criticised': 31,\n",
              " 'its': 82,\n",
              " 'management': 93,\n",
              " 'crisis': 30,\n",
              " 'little': 91,\n",
              " 'over': 107,\n",
              " 'people': 110,\n",
              " 'were': 162,\n",
              " 'killed': 84,\n",
              " 'according': 2,\n",
              " 'official': 103,\n",
              " 'records': 125,\n",
              " 'three': 154,\n",
              " 'quarters': 121,\n",
              " 'muslim': 98,\n",
              " 'independent': 71,\n",
              " 'sources': 144,\n",
              " 'estimated': 44,\n",
              " 'deaths': 32,\n",
              " 'mostly': 97,\n",
              " 'special': 145,\n",
              " 'investigation': 78,\n",
              " 'team': 152,\n",
              " 'by': 21,\n",
              " 'supreme': 149,\n",
              " 'court': 29,\n",
              " 'india': 72,\n",
              " 'found': 50,\n",
              " 'no': 99,\n",
              " 'evidence': 45,\n",
              " 'initiate': 75,\n",
              " 'prosecution': 119,\n",
              " 'proceedings': 116,\n",
              " 'against': 7,\n",
              " 'as': 11,\n",
              " 'pro': 115,\n",
              " 'growth': 55,\n",
              " 'policies': 111,\n",
              " 'praised': 114,\n",
              " 'health': 59,\n",
              " 'poverty': 113,\n",
              " 'indices': 74,\n",
              " 'state': 147,\n",
              " 'did': 36,\n",
              " 'see': 135,\n",
              " 'significant': 139,\n",
              " 'improvements': 68,\n",
              " 'indian': 73,\n",
              " 'election': 42,\n",
              " 'led': 88,\n",
              " 'parliamentary': 108,\n",
              " 'majority': 92,\n",
              " 'first': 47,\n",
              " 'since': 140,\n",
              " 'increased': 70,\n",
              " 'direct': 37,\n",
              " 'foreign': 49,\n",
              " 'investment': 79,\n",
              " 'it': 81,\n",
              " 'reduced': 126,\n",
              " 'spending': 146,\n",
              " 'on': 104,\n",
              " 'healthcare': 60,\n",
              " 'social': 142,\n",
              " 'welfare': 161,\n",
              " 'programmes': 118,\n",
              " 'began': 18,\n",
              " 'high': 65,\n",
              " 'profile': 117,\n",
              " 'sanitation': 132,\n",
              " 'campaign': 22,\n",
              " 'controversially': 27,\n",
              " 'initiated': 76,\n",
              " 'demonetisation': 34,\n",
              " 'denomination': 35,\n",
              " 'banknotes': 15,\n",
              " 'goods': 54,\n",
              " 'services': 137,\n",
              " 'tax': 150,\n",
              " 'weakened': 160,\n",
              " 'or': 106,\n",
              " 'abolished': 1,\n",
              " 'environmental': 43,\n",
              " 'labour': 85,\n",
              " 'laws': 87}"
            ]
          },
          "metadata": {},
          "execution_count": 31
        }
      ]
    },
    {
      "cell_type": "code",
      "source": [],
      "metadata": {
        "id": "4gJr53SE3QbZ"
      },
      "execution_count": null,
      "outputs": []
    },
    {
      "cell_type": "code",
      "source": [],
      "metadata": {
        "id": "HEVuCSmy3QfL"
      },
      "execution_count": null,
      "outputs": []
    }
  ]
}